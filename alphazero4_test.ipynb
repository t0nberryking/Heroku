{
 "cells": [
  {
   "cell_type": "code",
   "execution_count": 32,
   "metadata": {},
   "outputs": [
    {
     "name": "stdout",
     "output_type": "stream",
     "text": [
      "<Response [200]>\n"
     ]
    },
    {
     "data": {
      "text/plain": [
       "[3, 4]"
      ]
     },
     "execution_count": 32,
     "metadata": {},
     "output_type": "execute_result"
    }
   ],
   "source": [
    "import requests\n",
    "import json\n",
    "BASE_URL = \"http://127.0.0.1:5000\"\n",
    "BASE_URL = \"https://alphazero4.herokuapp.com\"\n",
    "\n",
    "game_array = [\n",
    "    0,0,0,0,0,0,0,\n",
    "    0,0,0,1,0,0,0,\n",
    "    0,0,0,-1,0,1,0,\n",
    "    0,0,0,1,1,-1,0,\n",
    "    0,0,0,1,-1,-1,0,\n",
    "    0,0,0,1,-1,-1,0\n",
    "]\n",
    "game_state = {\"gameState\": json.dumps(game_array) }\n",
    "\n",
    "response = requests.post(f\"{BASE_URL}/\", json = game_state)\n",
    "print(response)\n",
    "response.json()"
   ]
  },
  {
   "cell_type": "code",
   "execution_count": null,
   "metadata": {},
   "outputs": [],
   "source": []
  }
 ],
 "metadata": {
  "kernelspec": {
   "display_name": "Python 3",
   "language": "python",
   "name": "python3"
  },
  "language_info": {
   "codemirror_mode": {
    "name": "ipython",
    "version": 3
   },
   "file_extension": ".py",
   "mimetype": "text/x-python",
   "name": "python",
   "nbconvert_exporter": "python",
   "pygments_lexer": "ipython3",
   "version": "3.6.6"
  }
 },
 "nbformat": 4,
 "nbformat_minor": 2
}
